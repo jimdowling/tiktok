{
 "cells": [
  {
   "cell_type": "markdown",
   "id": "877c805b",
   "metadata": {},
   "source": [
    "## <span style=\"color:#ff5f27\">👨🏻‍🏫 Build Index </span>\n",
    "\n",
    "In this notebook you will create a feature group for your candidate embeddings."
   ]
  },
  {
   "cell_type": "markdown",
   "id": "68c73384",
   "metadata": {},
   "source": [
    "## <span style=\"color:#ff5f27\">📝 Imports </span>"
   ]
  },
  {
   "cell_type": "code",
   "execution_count": 7,
   "id": "1de52446",
   "metadata": {},
   "outputs": [],
   "source": [
    "import tensorflow as tf\n",
    "import pprint\n",
    "import numpy as np\n",
    "import pandas as pd\n",
    "\n",
    "import warnings\n",
    "warnings.filterwarnings('ignore')"
   ]
  },
  {
   "cell_type": "markdown",
   "id": "5a16d07e",
   "metadata": {},
   "source": [
    "## <span style=\"color:#ff5f27\">🔮 Connect to Hopsworks Feature Store </span>"
   ]
  },
  {
   "cell_type": "code",
   "execution_count": 8,
   "id": "db9577ff",
   "metadata": {},
   "outputs": [
    {
     "name": "stdout",
     "output_type": "stream",
     "text": [
      "Connection closed.\n",
      "Connected. Call `.close()` to terminate connection gracefully.\n",
      "\n",
      "Logged in to project, explore it here https://c.app.hopsworks.ai:443/p/17565\n",
      "Connected. Call `.close()` to terminate connection gracefully.\n",
      "Connected. Call `.close()` to terminate connection gracefully.\n"
     ]
    }
   ],
   "source": [
    "import hopsworks\n",
    "\n",
    "project = hopsworks.login()\n",
    "\n",
    "fs = project.get_feature_store()\n",
    "mr = project.get_model_registry()"
   ]
  },
  {
   "cell_type": "markdown",
   "id": "a52e31c6",
   "metadata": {},
   "source": [
    "## <span style=\"color:#ff5f27\">🎯 Compute Candidate Embeddings </span>\n",
    "\n",
    "You start by computing candidate embeddings for all items in the training data.\n",
    "\n",
    "First, you load your candidate model. Recall that you uploaded it to the Hopsworks Model Registry in the previous notebook. If you don't have the model locally you can download it from the Model Registry using the following code:"
   ]
  },
  {
   "cell_type": "code",
   "execution_count": 9,
   "id": "9e88fc86",
   "metadata": {},
   "outputs": [
    {
     "name": "stdout",
     "output_type": "stream",
     "text": [
      "Downloading model artifact (2 dirs, 6 files)... DONE\r"
     ]
    }
   ],
   "source": [
    "model = mr.get_model(\n",
    "    name=\"candidate_model\",\n",
    "    version=1,\n",
    ")\n",
    "model_path = model.download()"
   ]
  },
  {
   "cell_type": "code",
   "execution_count": 10,
   "id": "4dccd0e4",
   "metadata": {},
   "outputs": [
    {
     "name": "stderr",
     "output_type": "stream",
     "text": [
      "2024-10-01 21:28:19.765433: I tensorflow/compiler/xla/stream_executor/cuda/cuda_gpu_executor.cc:981] could not open file to read NUMA node: /sys/bus/pci/devices/0000:03:00.0/numa_node\n",
      "Your kernel may have been built without NUMA support.\n",
      "2024-10-01 21:28:19.766347: W tensorflow/core/common_runtime/gpu/gpu_device.cc:1960] Cannot dlopen some GPU libraries. Please make sure the missing libraries mentioned above are installed properly if you would like to use GPU. Follow the guide at https://www.tensorflow.org/install/gpu for how to download and setup the required libraries for your platform.\n",
      "Skipping registering GPU devices...\n"
     ]
    }
   ],
   "source": [
    "candidate_model = tf.saved_model.load(model_path)"
   ]
  },
  {
   "cell_type": "markdown",
   "id": "1ec603fb",
   "metadata": {},
   "source": [
    "Next you compute the embeddings of all candidate videos that were used to train the retrieval model."
   ]
  },
  {
   "cell_type": "code",
   "execution_count": 11,
   "id": "15b25479",
   "metadata": {},
   "outputs": [],
   "source": [
    "feature_view = fs.get_feature_view(\n",
    "    name=\"retrieval\",\n",
    "    version=1,\n",
    ")"
   ]
  },
  {
   "cell_type": "code",
   "execution_count": 12,
   "id": "1f9dc797",
   "metadata": {},
   "outputs": [
    {
     "name": "stderr",
     "output_type": "stream",
     "text": [
      "/arrow/cpp/src/arrow/status.cc:137: DoAction result was not fully consumed: Cancelled: Flight cancelled call, with message: CANCELLED. Detail: Cancelled\n"
     ]
    },
    {
     "name": "stdout",
     "output_type": "stream",
     "text": [
      "Finished: Reading data from Hopsworks, using Hopsworks Feature Query Service (73.10s) \n"
     ]
    },
    {
     "data": {
      "text/html": [
       "<div>\n",
       "<style scoped>\n",
       "    .dataframe tbody tr th:only-of-type {\n",
       "        vertical-align: middle;\n",
       "    }\n",
       "\n",
       "    .dataframe tbody tr th {\n",
       "        vertical-align: top;\n",
       "    }\n",
       "\n",
       "    .dataframe thead th {\n",
       "        text-align: right;\n",
       "    }\n",
       "</style>\n",
       "<table border=\"1\" class=\"dataframe\">\n",
       "  <thead>\n",
       "    <tr style=\"text-align: right;\">\n",
       "      <th></th>\n",
       "      <th>interaction_id</th>\n",
       "      <th>user_id</th>\n",
       "      <th>gender</th>\n",
       "      <th>age</th>\n",
       "      <th>country</th>\n",
       "      <th>video_id</th>\n",
       "      <th>category</th>\n",
       "      <th>views</th>\n",
       "      <th>likes</th>\n",
       "      <th>video_length</th>\n",
       "    </tr>\n",
       "  </thead>\n",
       "  <tbody>\n",
       "    <tr>\n",
       "      <th>0</th>\n",
       "      <td>8493-35-9872</td>\n",
       "      <td>MG666N</td>\n",
       "      <td>Female</td>\n",
       "      <td>47</td>\n",
       "      <td>Turks &amp; Caicos Islands</td>\n",
       "      <td>0IE39E</td>\n",
       "      <td>News</td>\n",
       "      <td>63950</td>\n",
       "      <td>45996</td>\n",
       "      <td>38</td>\n",
       "    </tr>\n",
       "    <tr>\n",
       "      <th>1</th>\n",
       "      <td>1247-11-6324</td>\n",
       "      <td>IW619V</td>\n",
       "      <td>Other</td>\n",
       "      <td>44</td>\n",
       "      <td>Côte d’Ivoire</td>\n",
       "      <td>2PV16N</td>\n",
       "      <td>Technology</td>\n",
       "      <td>200516</td>\n",
       "      <td>144355</td>\n",
       "      <td>106</td>\n",
       "    </tr>\n",
       "    <tr>\n",
       "      <th>2</th>\n",
       "      <td>0336-88-6412</td>\n",
       "      <td>EO571D</td>\n",
       "      <td>Other</td>\n",
       "      <td>34</td>\n",
       "      <td>Bahamas</td>\n",
       "      <td>9WK73L</td>\n",
       "      <td>News</td>\n",
       "      <td>181915</td>\n",
       "      <td>59220</td>\n",
       "      <td>74</td>\n",
       "    </tr>\n",
       "  </tbody>\n",
       "</table>\n",
       "</div>"
      ],
      "text/plain": [
       "  interaction_id user_id  gender  age                 country video_id  \\\n",
       "0   8493-35-9872  MG666N  Female   47  Turks & Caicos Islands   0IE39E   \n",
       "1   1247-11-6324  IW619V   Other   44           Côte d’Ivoire   2PV16N   \n",
       "2   0336-88-6412  EO571D   Other   34                 Bahamas   9WK73L   \n",
       "\n",
       "     category   views   likes  video_length  \n",
       "0        News   63950   45996            38  \n",
       "1  Technology  200516  144355           106  \n",
       "2        News  181915   59220            74  "
      ]
     },
     "execution_count": 12,
     "metadata": {},
     "output_type": "execute_result"
    }
   ],
   "source": [
    "train_df, val_df, test_df, _, _, _ = feature_view.train_validation_test_split(\n",
    "    validation_size=0.1, \n",
    "    test_size=0.1,\n",
    "    description='Retrieval dataset splits',\n",
    ")\n",
    "train_df.head(3)"
   ]
  },
  {
   "cell_type": "code",
   "execution_count": 13,
   "id": "824421aa-183b-4326-9432-ead3cb9a1d51",
   "metadata": {},
   "outputs": [
    {
     "data": {
      "text/html": [
       "<div>\n",
       "<style scoped>\n",
       "    .dataframe tbody tr th:only-of-type {\n",
       "        vertical-align: middle;\n",
       "    }\n",
       "\n",
       "    .dataframe tbody tr th {\n",
       "        vertical-align: top;\n",
       "    }\n",
       "\n",
       "    .dataframe thead th {\n",
       "        text-align: right;\n",
       "    }\n",
       "</style>\n",
       "<table border=\"1\" class=\"dataframe\">\n",
       "  <thead>\n",
       "    <tr style=\"text-align: right;\">\n",
       "      <th></th>\n",
       "      <th>interaction_id</th>\n",
       "      <th>user_id</th>\n",
       "      <th>gender</th>\n",
       "      <th>age</th>\n",
       "      <th>country</th>\n",
       "      <th>video_id</th>\n",
       "      <th>category</th>\n",
       "      <th>views</th>\n",
       "      <th>likes</th>\n",
       "      <th>video_length</th>\n",
       "    </tr>\n",
       "  </thead>\n",
       "  <tbody>\n",
       "    <tr>\n",
       "      <th>0</th>\n",
       "      <td>8493-35-9872</td>\n",
       "      <td>MG666N</td>\n",
       "      <td>Female</td>\n",
       "      <td>47</td>\n",
       "      <td>Turks &amp; Caicos Islands</td>\n",
       "      <td>0IE39E</td>\n",
       "      <td>News</td>\n",
       "      <td>63950</td>\n",
       "      <td>45996</td>\n",
       "      <td>38</td>\n",
       "    </tr>\n",
       "    <tr>\n",
       "      <th>1</th>\n",
       "      <td>1247-11-6324</td>\n",
       "      <td>IW619V</td>\n",
       "      <td>Other</td>\n",
       "      <td>44</td>\n",
       "      <td>Côte d’Ivoire</td>\n",
       "      <td>2PV16N</td>\n",
       "      <td>Technology</td>\n",
       "      <td>200516</td>\n",
       "      <td>144355</td>\n",
       "      <td>106</td>\n",
       "    </tr>\n",
       "    <tr>\n",
       "      <th>2</th>\n",
       "      <td>0336-88-6412</td>\n",
       "      <td>EO571D</td>\n",
       "      <td>Other</td>\n",
       "      <td>34</td>\n",
       "      <td>Bahamas</td>\n",
       "      <td>9WK73L</td>\n",
       "      <td>News</td>\n",
       "      <td>181915</td>\n",
       "      <td>59220</td>\n",
       "      <td>74</td>\n",
       "    </tr>\n",
       "    <tr>\n",
       "      <th>3</th>\n",
       "      <td>1055-76-9596</td>\n",
       "      <td>CL930U</td>\n",
       "      <td>Other</td>\n",
       "      <td>85</td>\n",
       "      <td>Mongolia</td>\n",
       "      <td>9KT05N</td>\n",
       "      <td>Music</td>\n",
       "      <td>46054</td>\n",
       "      <td>8021</td>\n",
       "      <td>55</td>\n",
       "    </tr>\n",
       "    <tr>\n",
       "      <th>4</th>\n",
       "      <td>1821-43-0748</td>\n",
       "      <td>NJ361K</td>\n",
       "      <td>Other</td>\n",
       "      <td>23</td>\n",
       "      <td>Suriname</td>\n",
       "      <td>5VW23G</td>\n",
       "      <td>Comedy</td>\n",
       "      <td>308519</td>\n",
       "      <td>53853</td>\n",
       "      <td>226</td>\n",
       "    </tr>\n",
       "    <tr>\n",
       "      <th>...</th>\n",
       "      <td>...</td>\n",
       "      <td>...</td>\n",
       "      <td>...</td>\n",
       "      <td>...</td>\n",
       "      <td>...</td>\n",
       "      <td>...</td>\n",
       "      <td>...</td>\n",
       "      <td>...</td>\n",
       "      <td>...</td>\n",
       "      <td>...</td>\n",
       "    </tr>\n",
       "    <tr>\n",
       "      <th>1009995</th>\n",
       "      <td>0724-29-0432</td>\n",
       "      <td>LS345B</td>\n",
       "      <td>Male</td>\n",
       "      <td>78</td>\n",
       "      <td>Cameroon</td>\n",
       "      <td>1NR73Y</td>\n",
       "      <td>Technology</td>\n",
       "      <td>157359</td>\n",
       "      <td>89735</td>\n",
       "      <td>115</td>\n",
       "    </tr>\n",
       "    <tr>\n",
       "      <th>1009996</th>\n",
       "      <td>2349-95-8268</td>\n",
       "      <td>AW776Z</td>\n",
       "      <td>Other</td>\n",
       "      <td>78</td>\n",
       "      <td>Laos</td>\n",
       "      <td>6VT86G</td>\n",
       "      <td>Comedy</td>\n",
       "      <td>53227</td>\n",
       "      <td>9151</td>\n",
       "      <td>189</td>\n",
       "    </tr>\n",
       "    <tr>\n",
       "      <th>1009997</th>\n",
       "      <td>9527-95-8831</td>\n",
       "      <td>YT721H</td>\n",
       "      <td>Other</td>\n",
       "      <td>57</td>\n",
       "      <td>Nauru</td>\n",
       "      <td>0RT08F</td>\n",
       "      <td>Entertainment</td>\n",
       "      <td>355769</td>\n",
       "      <td>145940</td>\n",
       "      <td>199</td>\n",
       "    </tr>\n",
       "    <tr>\n",
       "      <th>1009998</th>\n",
       "      <td>8835-20-4526</td>\n",
       "      <td>JT609X</td>\n",
       "      <td>Female</td>\n",
       "      <td>78</td>\n",
       "      <td>Morocco</td>\n",
       "      <td>9DB59C</td>\n",
       "      <td>Education</td>\n",
       "      <td>107165</td>\n",
       "      <td>26295</td>\n",
       "      <td>230</td>\n",
       "    </tr>\n",
       "    <tr>\n",
       "      <th>1009999</th>\n",
       "      <td>9033-35-1180</td>\n",
       "      <td>SG723X</td>\n",
       "      <td>Other</td>\n",
       "      <td>60</td>\n",
       "      <td>Brunei</td>\n",
       "      <td>5PH82L</td>\n",
       "      <td>Education</td>\n",
       "      <td>468835</td>\n",
       "      <td>92063</td>\n",
       "      <td>87</td>\n",
       "    </tr>\n",
       "  </tbody>\n",
       "</table>\n",
       "<p>808000 rows × 10 columns</p>\n",
       "</div>"
      ],
      "text/plain": [
       "        interaction_id user_id  gender  age                 country video_id  \\\n",
       "0         8493-35-9872  MG666N  Female   47  Turks & Caicos Islands   0IE39E   \n",
       "1         1247-11-6324  IW619V   Other   44           Côte d’Ivoire   2PV16N   \n",
       "2         0336-88-6412  EO571D   Other   34                 Bahamas   9WK73L   \n",
       "3         1055-76-9596  CL930U   Other   85                Mongolia   9KT05N   \n",
       "4         1821-43-0748  NJ361K   Other   23                Suriname   5VW23G   \n",
       "...                ...     ...     ...  ...                     ...      ...   \n",
       "1009995   0724-29-0432  LS345B    Male   78                Cameroon   1NR73Y   \n",
       "1009996   2349-95-8268  AW776Z   Other   78                    Laos   6VT86G   \n",
       "1009997   9527-95-8831  YT721H   Other   57                   Nauru   0RT08F   \n",
       "1009998   8835-20-4526  JT609X  Female   78                 Morocco   9DB59C   \n",
       "1009999   9033-35-1180  SG723X   Other   60                  Brunei   5PH82L   \n",
       "\n",
       "              category   views   likes  video_length  \n",
       "0                 News   63950   45996            38  \n",
       "1           Technology  200516  144355           106  \n",
       "2                 News  181915   59220            74  \n",
       "3                Music   46054    8021            55  \n",
       "4               Comedy  308519   53853           226  \n",
       "...                ...     ...     ...           ...  \n",
       "1009995     Technology  157359   89735           115  \n",
       "1009996         Comedy   53227    9151           189  \n",
       "1009997  Entertainment  355769  145940           199  \n",
       "1009998      Education  107165   26295           230  \n",
       "1009999      Education  468835   92063            87  \n",
       "\n",
       "[808000 rows x 10 columns]"
      ]
     },
     "execution_count": 13,
     "metadata": {},
     "output_type": "execute_result"
    }
   ],
   "source": [
    "train_df"
   ]
  },
  {
   "cell_type": "code",
   "execution_count": 14,
   "id": "bf72c728",
   "metadata": {},
   "outputs": [
    {
     "data": {
      "text/html": [
       "<div>\n",
       "<style scoped>\n",
       "    .dataframe tbody tr th:only-of-type {\n",
       "        vertical-align: middle;\n",
       "    }\n",
       "\n",
       "    .dataframe tbody tr th {\n",
       "        vertical-align: top;\n",
       "    }\n",
       "\n",
       "    .dataframe thead th {\n",
       "        text-align: right;\n",
       "    }\n",
       "</style>\n",
       "<table border=\"1\" class=\"dataframe\">\n",
       "  <thead>\n",
       "    <tr style=\"text-align: right;\">\n",
       "      <th></th>\n",
       "      <th>video_id</th>\n",
       "      <th>category</th>\n",
       "      <th>views</th>\n",
       "      <th>likes</th>\n",
       "      <th>video_length</th>\n",
       "    </tr>\n",
       "  </thead>\n",
       "  <tbody>\n",
       "    <tr>\n",
       "      <th>0</th>\n",
       "      <td>0IE39E</td>\n",
       "      <td>News</td>\n",
       "      <td>63950</td>\n",
       "      <td>45996</td>\n",
       "      <td>38</td>\n",
       "    </tr>\n",
       "    <tr>\n",
       "      <th>1</th>\n",
       "      <td>2PV16N</td>\n",
       "      <td>Technology</td>\n",
       "      <td>200516</td>\n",
       "      <td>144355</td>\n",
       "      <td>106</td>\n",
       "    </tr>\n",
       "    <tr>\n",
       "      <th>2</th>\n",
       "      <td>9WK73L</td>\n",
       "      <td>News</td>\n",
       "      <td>181915</td>\n",
       "      <td>59220</td>\n",
       "      <td>74</td>\n",
       "    </tr>\n",
       "  </tbody>\n",
       "</table>\n",
       "</div>"
      ],
      "text/plain": [
       "  video_id    category   views   likes  video_length\n",
       "0   0IE39E        News   63950   45996            38\n",
       "1   2PV16N  Technology  200516  144355           106\n",
       "2   9WK73L        News  181915   59220            74"
      ]
     },
     "execution_count": 14,
     "metadata": {},
     "output_type": "execute_result"
    }
   ],
   "source": [
    "# Get the list of input features for the candidate model from the model schema\n",
    "model_schema = model.model_schema['input_schema']['columnar_schema']\n",
    "candidate_features = [feat['name'] for feat in model_schema]\n",
    "\n",
    "# Select the candidate features from the training DataFrame\n",
    "item_df = train_df[candidate_features]\n",
    "\n",
    "# Drop duplicate rows based on the 'article_id' column to get unique candidate items\n",
    "item_df.drop_duplicates(subset=\"video_id\", inplace=True)\n",
    "\n",
    "item_df.head(3)"
   ]
  },
  {
   "cell_type": "code",
   "execution_count": 15,
   "id": "d6a8d2bc",
   "metadata": {},
   "outputs": [],
   "source": [
    "# Create a TensorFlow dataset from the item DataFrame\n",
    "item_ds = tf.data.Dataset.from_tensor_slices(\n",
    "    {col: item_df[col] for col in item_df})\n",
    "\n",
    "# Compute embeddings for all candidate items using the candidate_model\n",
    "candidate_embeddings = item_ds.batch(2048).map(\n",
    "    lambda x: (x[\"video_id\"], candidate_model(x))\n",
    ")"
   ]
  },
  {
   "cell_type": "markdown",
   "id": "c57b95ca",
   "metadata": {},
   "source": [
    "## <span style=\"color:#ff5f27\">⚙️ Data Preparation </span>\n"
   ]
  },
  {
   "cell_type": "code",
   "execution_count": 16,
   "id": "47d30dac",
   "metadata": {},
   "outputs": [],
   "source": [
    "# Concatenate all article IDs and embeddings from the candidate_embeddings dataset\n",
    "all_article_ids = tf.concat([batch[0] for batch in candidate_embeddings], axis=0)\n",
    "all_embeddings = tf.concat([batch[1] for batch in candidate_embeddings], axis=0)\n",
    "\n",
    "# Convert tensors to numpy arrays\n",
    "all_article_ids_np = all_article_ids.numpy()\n",
    "all_embeddings_np = all_embeddings.numpy()\n",
    "\n",
    "# Convert numpy arrays to lists\n",
    "items_ids_list = all_article_ids_np.tolist()\n",
    "embeddings_list = all_embeddings_np.tolist()"
   ]
  },
  {
   "cell_type": "code",
   "execution_count": 17,
   "id": "6c311309",
   "metadata": {},
   "outputs": [
    {
     "data": {
      "text/html": [
       "<div>\n",
       "<style scoped>\n",
       "    .dataframe tbody tr th:only-of-type {\n",
       "        vertical-align: middle;\n",
       "    }\n",
       "\n",
       "    .dataframe tbody tr th {\n",
       "        vertical-align: top;\n",
       "    }\n",
       "\n",
       "    .dataframe thead th {\n",
       "        text-align: right;\n",
       "    }\n",
       "</style>\n",
       "<table border=\"1\" class=\"dataframe\">\n",
       "  <thead>\n",
       "    <tr style=\"text-align: right;\">\n",
       "      <th></th>\n",
       "      <th>video_id</th>\n",
       "      <th>embeddings</th>\n",
       "    </tr>\n",
       "  </thead>\n",
       "  <tbody>\n",
       "    <tr>\n",
       "      <th>0</th>\n",
       "      <td>0IE39E</td>\n",
       "      <td>[-84.35520935058594, -3.6666274070739746, 69.4...</td>\n",
       "    </tr>\n",
       "    <tr>\n",
       "      <th>1</th>\n",
       "      <td>2PV16N</td>\n",
       "      <td>[-256.7899475097656, -2.141116142272949, 220.9...</td>\n",
       "    </tr>\n",
       "    <tr>\n",
       "      <th>2</th>\n",
       "      <td>9WK73L</td>\n",
       "      <td>[-309.5802917480469, -6.449563980102539, 261.3...</td>\n",
       "    </tr>\n",
       "    <tr>\n",
       "      <th>3</th>\n",
       "      <td>9KT05N</td>\n",
       "      <td>[-88.38681030273438, -8.603543281555176, 68.34...</td>\n",
       "    </tr>\n",
       "    <tr>\n",
       "      <th>4</th>\n",
       "      <td>5VW23G</td>\n",
       "      <td>[-562.212646484375, -11.332976341247559, 477.8...</td>\n",
       "    </tr>\n",
       "  </tbody>\n",
       "</table>\n",
       "</div>"
      ],
      "text/plain": [
       "  video_id                                         embeddings\n",
       "0   0IE39E  [-84.35520935058594, -3.6666274070739746, 69.4...\n",
       "1   2PV16N  [-256.7899475097656, -2.141116142272949, 220.9...\n",
       "2   9WK73L  [-309.5802917480469, -6.449563980102539, 261.3...\n",
       "3   9KT05N  [-88.38681030273438, -8.603543281555176, 68.34...\n",
       "4   5VW23G  [-562.212646484375, -11.332976341247559, 477.8..."
      ]
     },
     "execution_count": 17,
     "metadata": {},
     "output_type": "execute_result"
    }
   ],
   "source": [
    "# Create a DataFrame\n",
    "data_emb = pd.DataFrame({\n",
    "    'video_id': items_ids_list, \n",
    "    'embeddings': embeddings_list,\n",
    "})\n",
    "data_emb['video_id'] = data_emb['video_id'].str.decode('utf-8')\n",
    "\n",
    "data_emb.head()"
   ]
  },
  {
   "cell_type": "markdown",
   "id": "b84b6dfc",
   "metadata": {},
   "source": [
    "## <span style=\"color:#ff5f27\">🪄 Feature Group Creation </span>\n",
    "\n",
    "Now you are ready to create a feature group for your candidate embeddings.\n",
    "\n",
    "To begin with, you need to create your Embedding Index where you will specify the name of the embeddings feature and the embeddings length.\n",
    "Then you attach this index to the FG."
   ]
  },
  {
   "cell_type": "code",
   "execution_count": 18,
   "id": "50c3da55",
   "metadata": {},
   "outputs": [],
   "source": [
    "from hsfs import embedding\n",
    "\n",
    "# Create the Embedding Index\n",
    "emb = embedding.EmbeddingIndex()\n",
    "\n",
    "emb.add_embedding(\n",
    "    \"embeddings\",                           # Embeddings feature name\n",
    "    len(data_emb[\"embeddings\"].iloc[0]),    # Embeddings length\n",
    ")"
   ]
  },
  {
   "cell_type": "code",
   "execution_count": 19,
   "id": "20644b4f",
   "metadata": {},
   "outputs": [
    {
     "name": "stdout",
     "output_type": "stream",
     "text": [
      "Feature Group created successfully, explore it at \n",
      "https://c.app.hopsworks.ai:443/p/17565/fs/17485/fg/1238382\n"
     ]
    },
    {
     "data": {
      "application/vnd.jupyter.widget-view+json": {
       "model_id": "9dacca659d5b498aa5627ed517f857b1",
       "version_major": 2,
       "version_minor": 0
      },
      "text/plain": [
       "Uploading Dataframe: 0.00% |          | Rows 0/25980 | Elapsed Time: 00:00 | Remaining Time: ?"
      ]
     },
     "metadata": {},
     "output_type": "display_data"
    },
    {
     "name": "stdout",
     "output_type": "stream",
     "text": [
      "Launching job: candidate_embeddings_fg_1_offline_fg_materialization\n",
      "Job started successfully, you can follow the progress at \n",
      "https://c.app.hopsworks.ai/p/17565/jobs/named/candidate_embeddings_fg_1_offline_fg_materialization/executions\n"
     ]
    },
    {
     "data": {
      "text/plain": [
       "(<hsfs.core.job.Job at 0x7f9164f76230>, None)"
      ]
     },
     "execution_count": 19,
     "metadata": {},
     "output_type": "execute_result"
    }
   ],
   "source": [
    "# Get or create the 'candidate_embeddings_fg' feature group\n",
    "candidate_embeddings_fg = fs.get_or_create_feature_group(\n",
    "    name=\"candidate_embeddings_fg\",\n",
    "    embedding_index=emb,                    # Specify the Embedding Index\n",
    "    primary_key=['video_id'],\n",
    "    version=1,\n",
    "    description='Embeddings for each video',\n",
    "    online_enabled=True,\n",
    ")\n",
    "\n",
    "candidate_embeddings_fg.insert(data_emb)"
   ]
  },
  {
   "cell_type": "markdown",
   "id": "074d7f1a",
   "metadata": {},
   "source": [
    "## <span style=\"color:#ff5f27\">🪄 Feature View Creation </span>\n"
   ]
  },
  {
   "cell_type": "code",
   "execution_count": 20,
   "id": "eb1a3620",
   "metadata": {},
   "outputs": [
    {
     "name": "stdout",
     "output_type": "stream",
     "text": [
      "Feature view created successfully, explore it at \n",
      "https://c.app.hopsworks.ai:443/p/17565/fs/17485/fv/candidate_embeddings/version/1\n"
     ]
    }
   ],
   "source": [
    "# Get or create the 'candidate_embeddings' feature view\n",
    "feature_view = fs.get_or_create_feature_view(\n",
    "    name=\"candidate_embeddings\",\n",
    "    version=1,\n",
    "    description='Embeddings of each article',\n",
    "    query=candidate_embeddings_fg.select([\"video_id\"]),\n",
    ")"
   ]
  },
  {
   "cell_type": "markdown",
   "id": "cb25aae0",
   "metadata": {},
   "source": [
    "---\n",
    "## <span style=\"color:#ff5f27\">⏩️ Next Steps </span>\n",
    "\n",
    "At this point you have a recommender system that is able to generate a set of candidate videos for a user. However, many of these could be poor, as the candidate model was trained with only a few subset of the features. In the next notebook, you'll create a ranking dataset to train a *ranking model* to do more fine-grained predictions."
   ]
  }
 ],
 "metadata": {
  "kernelspec": {
   "display_name": "Python 3 (ipykernel)",
   "language": "python",
   "name": "python3"
  },
  "language_info": {
   "codemirror_mode": {
    "name": "ipython",
    "version": 3
   },
   "file_extension": ".py",
   "mimetype": "text/x-python",
   "name": "python",
   "nbconvert_exporter": "python",
   "pygments_lexer": "ipython3",
   "version": "3.10.0"
  }
 },
 "nbformat": 4,
 "nbformat_minor": 5
}
