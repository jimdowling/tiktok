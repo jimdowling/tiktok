{
 "cells": [
  {
   "cell_type": "markdown",
   "id": "c9b82503",
   "metadata": {},
   "source": [
    "## <span style=\"color:#ff5f27\">👨🏻‍🏫 Train Ranking Model </span>\n",
    "\n",
    "In this notebook, you will train a ranking model using gradient boosted trees. "
   ]
  },
  {
   "cell_type": "markdown",
   "id": "a85e3767",
   "metadata": {},
   "source": [
    "## <span style=\"color:#ff5f27\">📝 Imports </span>"
   ]
  },
  {
   "cell_type": "code",
   "execution_count": 1,
   "id": "8502907f",
   "metadata": {},
   "outputs": [],
   "source": [
    "import pandas as pd\n",
    "from catboost import CatBoostClassifier, Pool\n",
    "from sklearn.metrics import classification_report, precision_recall_fscore_support\n",
    "import joblib"
   ]
  },
  {
   "cell_type": "markdown",
   "id": "1373dc92",
   "metadata": {},
   "source": [
    "## <span style=\"color:#ff5f27\">🔮 Connect to Hopsworks Feature Store </span>"
   ]
  },
  {
   "cell_type": "code",
   "execution_count": 2,
   "id": "b3093efd",
   "metadata": {},
   "outputs": [
    {
     "name": "stdout",
     "output_type": "stream",
     "text": [
      "Connected. Call `.close()` to terminate connection gracefully.\n",
      "\n",
      "Logged in to project, explore it here https://snurran.hops.works/p/11383\n",
      "Connected. Call `.close()` to terminate connection gracefully.\n"
     ]
    }
   ],
   "source": [
    "import hopsworks\n",
    "\n",
    "project = hopsworks.login()\n",
    "\n",
    "fs = project.get_feature_store()"
   ]
  },
  {
   "cell_type": "code",
   "execution_count": 4,
   "id": "99520140",
   "metadata": {},
   "outputs": [],
   "source": [
    "users_fg = fs.get_feature_group(\n",
    "    name=\"users\",\n",
    "    version=1,\n",
    ")\n",
    "\n",
    "videos_fg = fs.get_feature_group(\n",
    "    name=\"videos\",\n",
    "    version=1,\n",
    ")\n",
    "\n",
    "rank_fg = fs.get_feature_group(\n",
    "    name=\"ranking\",\n",
    "    version=1,\n",
    ")"
   ]
  },
  {
   "cell_type": "markdown",
   "id": "e31f6c94",
   "metadata": {},
   "source": [
    "## <span style=\"color:#ff5f27\">⚙️ Feature View Creation </span>"
   ]
  },
  {
   "cell_type": "code",
   "execution_count": 5,
   "id": "4f9aecc4",
   "metadata": {},
   "outputs": [
    {
     "name": "stdout",
     "output_type": "stream",
     "text": [
      "Feature view created successfully, explore it at \n",
      "https://snurran.hops.works/p/11383/fs/11331/fv/users/version/1\n"
     ]
    },
    {
     "data": {
      "text/plain": [
       "<hsfs.feature_view.FeatureView at 0x7f283ba2d0c0>"
      ]
     },
     "execution_count": 5,
     "metadata": {},
     "output_type": "execute_result"
    }
   ],
   "source": [
    "# Select features\n",
    "selected_features_customers = users_fg.select_all()\n",
    "\n",
    "fs.get_or_create_feature_view( \n",
    "    name='users',\n",
    "    query=selected_features_customers,\n",
    "    version=1,\n",
    ")"
   ]
  },
  {
   "cell_type": "code",
   "execution_count": 6,
   "id": "ac531433",
   "metadata": {},
   "outputs": [
    {
     "name": "stdout",
     "output_type": "stream",
     "text": [
      "Feature view created successfully, explore it at \n",
      "https://snurran.hops.works/p/11383/fs/11331/fv/videos/version/1\n"
     ]
    },
    {
     "data": {
      "text/plain": [
       "<hsfs.feature_view.FeatureView at 0x7f283ba4c130>"
      ]
     },
     "execution_count": 6,
     "metadata": {},
     "output_type": "execute_result"
    }
   ],
   "source": [
    "# Select features\n",
    "selected_features_articles = videos_fg.select_all()\n",
    "\n",
    "fs.get_or_create_feature_view(\n",
    "    name='videos',\n",
    "    query=selected_features_articles,\n",
    "    version=1,\n",
    ")"
   ]
  },
  {
   "cell_type": "code",
   "execution_count": 7,
   "id": "004ed938",
   "metadata": {},
   "outputs": [
    {
     "name": "stdout",
     "output_type": "stream",
     "text": [
      "Feature view created successfully, explore it at \n",
      "https://snurran.hops.works/p/11383/fs/11331/fv/ranking/version/1\n"
     ]
    }
   ],
   "source": [
    "# Select features\n",
    "selected_features_ranking = rank_fg.select_except([\"user_id\", \"video_id\"])\n",
    "\n",
    "feature_view_ranking = fs.get_or_create_feature_view(\n",
    "    name='ranking',\n",
    "    query=selected_features_ranking,\n",
    "    labels=[\"label\"],\n",
    "    version=1,\n",
    ")"
   ]
  },
  {
   "cell_type": "markdown",
   "id": "86b78a7d",
   "metadata": {},
   "source": [
    "## <span style=\"color:#ff5f27\">🗄️ Train Data loading </span>"
   ]
  },
  {
   "cell_type": "code",
   "execution_count": 8,
   "id": "46b9a31f",
   "metadata": {},
   "outputs": [
    {
     "name": "stdout",
     "output_type": "stream",
     "text": [
      "Finished: Reading data from Hopsworks, using ArrowFlight (7.98s) \n"
     ]
    },
    {
     "name": "stderr",
     "output_type": "stream",
     "text": [
      "VersionWarning: Incremented version to `1`.\n"
     ]
    },
    {
     "data": {
      "text/html": [
       "<div>\n",
       "<style scoped>\n",
       "    .dataframe tbody tr th:only-of-type {\n",
       "        vertical-align: middle;\n",
       "    }\n",
       "\n",
       "    .dataframe tbody tr th {\n",
       "        vertical-align: top;\n",
       "    }\n",
       "\n",
       "    .dataframe thead th {\n",
       "        text-align: right;\n",
       "    }\n",
       "</style>\n",
       "<table border=\"1\" class=\"dataframe\">\n",
       "  <thead>\n",
       "    <tr style=\"text-align: right;\">\n",
       "      <th></th>\n",
       "      <th>category</th>\n",
       "      <th>views</th>\n",
       "      <th>likes</th>\n",
       "      <th>video_length</th>\n",
       "      <th>upload_date</th>\n",
       "      <th>gender</th>\n",
       "      <th>age</th>\n",
       "      <th>country</th>\n",
       "    </tr>\n",
       "  </thead>\n",
       "  <tbody>\n",
       "    <tr>\n",
       "      <th>0</th>\n",
       "      <td>Travel</td>\n",
       "      <td>88173</td>\n",
       "      <td>30625</td>\n",
       "      <td>236</td>\n",
       "      <td>2022-08-16</td>\n",
       "      <td>Female</td>\n",
       "      <td>81</td>\n",
       "      <td>Congo - Brazzaville</td>\n",
       "    </tr>\n",
       "    <tr>\n",
       "      <th>1</th>\n",
       "      <td>Sports</td>\n",
       "      <td>66526</td>\n",
       "      <td>515</td>\n",
       "      <td>154</td>\n",
       "      <td>2024-02-18</td>\n",
       "      <td>Female</td>\n",
       "      <td>22</td>\n",
       "      <td>Ethiopia</td>\n",
       "    </tr>\n",
       "    <tr>\n",
       "      <th>2</th>\n",
       "      <td>Comedy</td>\n",
       "      <td>14472</td>\n",
       "      <td>3323</td>\n",
       "      <td>226</td>\n",
       "      <td>2022-07-28</td>\n",
       "      <td>Female</td>\n",
       "      <td>69</td>\n",
       "      <td>Haiti</td>\n",
       "    </tr>\n",
       "  </tbody>\n",
       "</table>\n",
       "</div>"
      ],
      "text/plain": [
       "  category  views  likes  video_length upload_date  gender  age  \\\n",
       "0   Travel  88173  30625           236  2022-08-16  Female   81   \n",
       "1   Sports  66526    515           154  2024-02-18  Female   22   \n",
       "2   Comedy  14472   3323           226  2022-07-28  Female   69   \n",
       "\n",
       "               country  \n",
       "0  Congo - Brazzaville  \n",
       "1             Ethiopia  \n",
       "2                Haiti  "
      ]
     },
     "execution_count": 8,
     "metadata": {},
     "output_type": "execute_result"
    }
   ],
   "source": [
    "X_train, X_val, y_train, y_val = feature_view_ranking.train_test_split(\n",
    "    test_size=0.1,\n",
    "    description='Ranking training dataset',\n",
    ")\n",
    "\n",
    "X_train.head(3)"
   ]
  },
  {
   "cell_type": "code",
   "execution_count": 9,
   "id": "17c49a2e",
   "metadata": {},
   "outputs": [
    {
     "data": {
      "text/html": [
       "<div>\n",
       "<style scoped>\n",
       "    .dataframe tbody tr th:only-of-type {\n",
       "        vertical-align: middle;\n",
       "    }\n",
       "\n",
       "    .dataframe tbody tr th {\n",
       "        vertical-align: top;\n",
       "    }\n",
       "\n",
       "    .dataframe thead th {\n",
       "        text-align: right;\n",
       "    }\n",
       "</style>\n",
       "<table border=\"1\" class=\"dataframe\">\n",
       "  <thead>\n",
       "    <tr style=\"text-align: right;\">\n",
       "      <th></th>\n",
       "      <th>label</th>\n",
       "    </tr>\n",
       "  </thead>\n",
       "  <tbody>\n",
       "    <tr>\n",
       "      <th>0</th>\n",
       "      <td>0</td>\n",
       "    </tr>\n",
       "    <tr>\n",
       "      <th>1</th>\n",
       "      <td>0</td>\n",
       "    </tr>\n",
       "    <tr>\n",
       "      <th>2</th>\n",
       "      <td>0</td>\n",
       "    </tr>\n",
       "  </tbody>\n",
       "</table>\n",
       "</div>"
      ],
      "text/plain": [
       "   label\n",
       "0      0\n",
       "1      0\n",
       "2      0"
      ]
     },
     "execution_count": 9,
     "metadata": {},
     "output_type": "execute_result"
    }
   ],
   "source": [
    "y_train.head(3)"
   ]
  },
  {
   "cell_type": "markdown",
   "id": "d6343ad3",
   "metadata": {},
   "source": [
    "## <span style=\"color:#ff5f27\">🏃🏻‍♂️ Model Training </span>\n",
    "\n",
    "Let's train a model."
   ]
  },
  {
   "cell_type": "code",
   "execution_count": 10,
   "id": "1e688066",
   "metadata": {},
   "outputs": [
    {
     "name": "stdout",
     "output_type": "stream",
     "text": [
      "0:\tlearn: 0.6047943\ttest: 0.6049987\tbest: 0.6049987 (0)\ttotal: 683ms\tremaining: 1m 7s\n",
      "1:\tlearn: 0.5468728\ttest: 0.5472443\tbest: 0.5472443 (1)\ttotal: 1.08s\tremaining: 53.1s\n",
      "2:\tlearn: 0.5077067\ttest: 0.5082187\tbest: 0.5082187 (2)\ttotal: 1.38s\tremaining: 44.6s\n",
      "3:\tlearn: 0.4808279\ttest: 0.4814580\tbest: 0.4814580 (3)\ttotal: 1.98s\tremaining: 47.5s\n",
      "4:\tlearn: 0.4622726\ttest: 0.4630056\tbest: 0.4630056 (4)\ttotal: 2.28s\tremaining: 43.3s\n",
      "5:\tlearn: 0.4494611\ttest: 0.4502821\tbest: 0.4502821 (5)\ttotal: 2.48s\tremaining: 38.9s\n",
      "6:\tlearn: 0.4406433\ttest: 0.4415399\tbest: 0.4415399 (6)\ttotal: 2.88s\tremaining: 38.3s\n",
      "7:\tlearn: 0.4346065\ttest: 0.4355671\tbest: 0.4355671 (7)\ttotal: 3.28s\tremaining: 37.7s\n",
      "8:\tlearn: 0.4305001\ttest: 0.4315150\tbest: 0.4315150 (8)\ttotal: 3.78s\tremaining: 38.2s\n",
      "9:\tlearn: 0.4277257\ttest: 0.4287866\tbest: 0.4287866 (9)\ttotal: 4.38s\tremaining: 39.4s\n",
      "10:\tlearn: 0.4258645\ttest: 0.4269650\tbest: 0.4269650 (10)\ttotal: 4.98s\tremaining: 40.3s\n",
      "11:\tlearn: 0.4246241\ttest: 0.4257559\tbest: 0.4257559 (11)\ttotal: 5.37s\tremaining: 39.4s\n",
      "12:\tlearn: 0.4238015\ttest: 0.4249608\tbest: 0.4249608 (12)\ttotal: 5.97s\tremaining: 40s\n",
      "13:\tlearn: 0.4232602\ttest: 0.4244408\tbest: 0.4244408 (13)\ttotal: 6.17s\tremaining: 37.9s\n",
      "14:\tlearn: 0.4229050\ttest: 0.4241032\tbest: 0.4241032 (14)\ttotal: 6.77s\tremaining: 38.4s\n",
      "15:\tlearn: 0.4226733\ttest: 0.4238856\tbest: 0.4238856 (15)\ttotal: 7.17s\tremaining: 37.6s\n",
      "16:\tlearn: 0.4225222\ttest: 0.4237468\tbest: 0.4237468 (16)\ttotal: 7.57s\tremaining: 37s\n",
      "17:\tlearn: 0.4224243\ttest: 0.4236581\tbest: 0.4236581 (17)\ttotal: 8.07s\tremaining: 36.8s\n",
      "18:\tlearn: 0.4223611\ttest: 0.4236024\tbest: 0.4236024 (18)\ttotal: 8.37s\tremaining: 35.7s\n",
      "19:\tlearn: 0.4223202\ttest: 0.4235678\tbest: 0.4235678 (19)\ttotal: 8.77s\tremaining: 35.1s\n",
      "20:\tlearn: 0.4222939\ttest: 0.4235464\tbest: 0.4235464 (20)\ttotal: 9.07s\tremaining: 34.1s\n",
      "21:\tlearn: 0.4222769\ttest: 0.4235334\tbest: 0.4235334 (21)\ttotal: 9.38s\tremaining: 33.2s\n",
      "22:\tlearn: 0.4222660\ttest: 0.4235254\tbest: 0.4235254 (22)\ttotal: 9.78s\tremaining: 32.7s\n",
      "23:\tlearn: 0.4222590\ttest: 0.4235210\tbest: 0.4235210 (23)\ttotal: 10.2s\tremaining: 32.2s\n",
      "24:\tlearn: 0.4222541\ttest: 0.4235187\tbest: 0.4235187 (24)\ttotal: 10.6s\tremaining: 31.7s\n",
      "25:\tlearn: 0.4222512\ttest: 0.4235175\tbest: 0.4235175 (25)\ttotal: 10.9s\tremaining: 30.9s\n",
      "26:\tlearn: 0.4222475\ttest: 0.4235188\tbest: 0.4235175 (25)\ttotal: 11.4s\tremaining: 30.7s\n",
      "27:\tlearn: 0.4222463\ttest: 0.4235187\tbest: 0.4235175 (25)\ttotal: 11.9s\tremaining: 30.5s\n",
      "28:\tlearn: 0.4222455\ttest: 0.4235188\tbest: 0.4235175 (25)\ttotal: 12.2s\tremaining: 29.8s\n",
      "29:\tlearn: 0.4222450\ttest: 0.4235189\tbest: 0.4235175 (25)\ttotal: 12.6s\tremaining: 29.3s\n",
      "30:\tlearn: 0.4222447\ttest: 0.4235192\tbest: 0.4235175 (25)\ttotal: 12.9s\tremaining: 28.6s\n",
      "Stopped by overfitting detector  (5 iterations wait)\n",
      "\n",
      "bestTest = 0.4235174579\n",
      "bestIteration = 25\n",
      "\n",
      "Shrink model to first 26 iterations.\n"
     ]
    },
    {
     "data": {
      "text/plain": [
       "<catboost.core.CatBoostClassifier at 0x7f283ba85d80>"
      ]
     },
     "execution_count": 10,
     "metadata": {},
     "output_type": "execute_result"
    }
   ],
   "source": [
    "cat_features = list(\n",
    "    X_train.select_dtypes(include=['string', 'object']).columns\n",
    ")\n",
    "\n",
    "pool_train = Pool(X_train, y_train, cat_features=cat_features)\n",
    "pool_val = Pool(X_val, y_val, cat_features=cat_features)\n",
    "\n",
    "model = CatBoostClassifier(\n",
    "    learning_rate=0.2,\n",
    "    iterations=100,\n",
    "    depth=10,\n",
    "    scale_pos_weight=10,\n",
    "    early_stopping_rounds=5,\n",
    "    use_best_model=True,\n",
    ")\n",
    "\n",
    "model.fit(\n",
    "    pool_train, \n",
    "    eval_set=pool_val,\n",
    ")"
   ]
  },
  {
   "cell_type": "markdown",
   "id": "16860b8c",
   "metadata": {},
   "source": [
    "## <span style=\"color:#ff5f27\">👮🏻‍♂️ Model Validation </span>\n",
    "\n",
    "Next, you'll evaluate how well the model performs on the validation data."
   ]
  },
  {
   "cell_type": "code",
   "execution_count": 11,
   "id": "de19183d",
   "metadata": {},
   "outputs": [
    {
     "name": "stdout",
     "output_type": "stream",
     "text": [
      "              precision    recall  f1-score   support\n",
      "\n",
      "           0       0.00      0.00      0.00     63866\n",
      "           1       0.36      1.00      0.53     36059\n",
      "\n",
      "    accuracy                           0.36     99925\n",
      "   macro avg       0.18      0.50      0.27     99925\n",
      "weighted avg       0.13      0.36      0.19     99925\n",
      "\n"
     ]
    },
    {
     "name": "stderr",
     "output_type": "stream",
     "text": [
      "UndefinedMetricWarning: Precision and F-score are ill-defined and being set to 0.0 in labels with no predicted samples. Use `zero_division` parameter to control this behavior.\n",
      "UndefinedMetricWarning: Precision and F-score are ill-defined and being set to 0.0 in labels with no predicted samples. Use `zero_division` parameter to control this behavior.\n",
      "UndefinedMetricWarning: Precision and F-score are ill-defined and being set to 0.0 in labels with no predicted samples. Use `zero_division` parameter to control this behavior.\n"
     ]
    }
   ],
   "source": [
    "preds = model.predict(pool_val)\n",
    "\n",
    "precision, recall, fscore, _ = precision_recall_fscore_support(y_val, preds, average=\"binary\")\n",
    "\n",
    "metrics = {\n",
    "    \"precision\" : precision,\n",
    "    \"recall\" : recall,\n",
    "    \"fscore\" : fscore,\n",
    "}\n",
    "print(classification_report(y_val, preds))"
   ]
  },
  {
   "cell_type": "code",
   "execution_count": 12,
   "id": "0d591d0a",
   "metadata": {},
   "outputs": [
    {
     "data": {
      "text/plain": [
       "{'age': 31.650692148883884,\n",
       " 'gender': 21.34485610363139,\n",
       " 'video_length': 15.269523002273727,\n",
       " 'views': 11.866658360703779,\n",
       " 'likes': 7.924140862241619,\n",
       " 'country': 6.816744170131442,\n",
       " 'category': 5.127385352134173,\n",
       " 'upload_date': 0.0}"
      ]
     },
     "execution_count": 12,
     "metadata": {},
     "output_type": "execute_result"
    }
   ],
   "source": [
    "feat_to_score = {\n",
    "    feature: score \n",
    "    for feature, score \n",
    "    in zip(\n",
    "        X_train.columns, \n",
    "        model.feature_importances_,\n",
    "    )\n",
    "}\n",
    "\n",
    "feat_to_score = dict(\n",
    "    sorted(\n",
    "        feat_to_score.items(),\n",
    "        key=lambda item: item[1],\n",
    "        reverse=True,\n",
    "    )\n",
    ")\n",
    "feat_to_score"
   ]
  },
  {
   "cell_type": "markdown",
   "id": "9cd233b4",
   "metadata": {},
   "source": [
    "It can be seen that the model places high importance on user and item embedding features. Consequently, better trained embeddings could yield a better ranking model.\n",
    "\n",
    "Finally, you'll save your model."
   ]
  },
  {
   "cell_type": "code",
   "execution_count": 13,
   "id": "c15628e6",
   "metadata": {},
   "outputs": [
    {
     "data": {
      "text/plain": [
       "['ranking_model.pkl']"
      ]
     },
     "execution_count": 13,
     "metadata": {},
     "output_type": "execute_result"
    }
   ],
   "source": [
    "joblib.dump(model, 'ranking_model.pkl')"
   ]
  },
  {
   "cell_type": "markdown",
   "id": "148415c2",
   "metadata": {},
   "source": [
    "### <span style=\"color:#ff5f27\">💾  Upload Model to Model Registry </span>\n",
    "\n",
    "You'll upload the model to the Hopsworks Model Registry."
   ]
  },
  {
   "cell_type": "code",
   "execution_count": 14,
   "id": "835f2c6e",
   "metadata": {},
   "outputs": [
    {
     "name": "stdout",
     "output_type": "stream",
     "text": [
      "Connected. Call `.close()` to terminate connection gracefully.\n"
     ]
    }
   ],
   "source": [
    "# Connect to Hopsworks Model Registry\n",
    "mr = project.get_model_registry()"
   ]
  },
  {
   "cell_type": "code",
   "execution_count": 16,
   "id": "6f8168b6",
   "metadata": {},
   "outputs": [
    {
     "data": {
      "application/vnd.jupyter.widget-view+json": {
       "model_id": "81eeac42f53244b481baff9e002b2abb",
       "version_major": 2,
       "version_minor": 0
      },
      "text/plain": [
       "  0%|          | 0/6 [00:00<?, ?it/s]"
      ]
     },
     "metadata": {},
     "output_type": "display_data"
    },
    {
     "name": "stdout",
     "output_type": "stream",
     "text": [
      "Model created, explore it at https://snurran.hops.works/p/11383/models/ranking_model/1\n"
     ]
    },
    {
     "data": {
      "text/plain": [
       "Model(name: 'ranking_model', version: 1)"
      ]
     },
     "execution_count": 16,
     "metadata": {},
     "output_type": "execute_result"
    }
   ],
   "source": [
    "from hsml.schema import Schema\n",
    "from hsml.model_schema import ModelSchema\n",
    "\n",
    "input_example = X_train.sample().to_dict(\"records\")\n",
    "input_schema = Schema(X_train)\n",
    "output_schema = Schema(y_train)\n",
    "model_schema = ModelSchema(input_schema, output_schema)\n",
    "\n",
    "ranking_model = mr.python.create_model(\n",
    "    name=\"ranking_model\", \n",
    "    metrics=metrics,\n",
    "    model_schema=model_schema,\n",
    "    input_example=input_example,\n",
    "    description=\"Ranking model that scores item candidates\",\n",
    ")\n",
    "ranking_model.save(\"ranking_model.pkl\")"
   ]
  },
  {
   "cell_type": "markdown",
   "id": "49cdc747",
   "metadata": {},
   "source": [
    "---\n",
    "## <span style=\"color:#ff5f27\">⏩️ Next Steps </span>\n",
    "\n",
    "Now you have trained both a retrieval and a ranking model, which will allow you to generate recommendations for users. In the next notebook, you'll take a look at how you can deploy these models with the `HSML` library."
   ]
  }
 ],
 "metadata": {
  "kernelspec": {
   "display_name": "Python 3",
   "language": "python",
   "name": "python3"
  },
  "language_info": {
   "codemirror_mode": {
    "name": "ipython",
    "version": 3
   },
   "file_extension": ".py",
   "mimetype": "text/x-python",
   "name": "python",
   "nbconvert_exporter": "python",
   "pygments_lexer": "ipython3",
   "version": "3.10.11"
  }
 },
 "nbformat": 4,
 "nbformat_minor": 5
}
