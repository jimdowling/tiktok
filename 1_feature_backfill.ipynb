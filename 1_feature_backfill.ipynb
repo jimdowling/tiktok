{
 "cells": [
  {
   "cell_type": "markdown",
   "id": "66f25309",
   "metadata": {},
   "source": [
    "## <span style='color:#ff5f27'> 📝 Imports"
   ]
  },
  {
   "cell_type": "code",
   "execution_count": 1,
   "id": "e15d0d39",
   "metadata": {},
   "outputs": [],
   "source": [
    "# !pip install -r requirements.txt --quiet"
   ]
  },
  {
   "cell_type": "code",
   "execution_count": 2,
   "id": "a1cd9180",
   "metadata": {},
   "outputs": [],
   "source": [
    "import pandas as pd\n",
    "import numpy as np\n",
    "import great_expectations as ge\n",
    "from great_expectations.core import ExpectationSuite, ExpectationConfiguration\n",
    "\n",
    "from features.users import generate_users\n",
    "from features.videos import generate_video_content\n",
    "from features.interactions import generate_interactions"
   ]
  },
  {
   "cell_type": "markdown",
   "id": "f0e45dfd",
   "metadata": {},
   "source": [
    "## <span style='color:#ff5f27'> ⚙️ Data Generation</span>\n"
   ]
  },
  {
   "cell_type": "markdown",
   "id": "f8fe3158",
   "metadata": {},
   "source": [
    "### <span style='color:#ff5f27'> 👥 Users Data Generation</span>"
   ]
  },
  {
   "cell_type": "code",
   "execution_count": 3,
   "id": "c77734b1",
   "metadata": {},
   "outputs": [
    {
     "data": {
      "text/html": [
       "<div>\n",
       "<style scoped>\n",
       "    .dataframe tbody tr th:only-of-type {\n",
       "        vertical-align: middle;\n",
       "    }\n",
       "\n",
       "    .dataframe tbody tr th {\n",
       "        vertical-align: top;\n",
       "    }\n",
       "\n",
       "    .dataframe thead th {\n",
       "        text-align: right;\n",
       "    }\n",
       "</style>\n",
       "<table border=\"1\" class=\"dataframe\">\n",
       "  <thead>\n",
       "    <tr style=\"text-align: right;\">\n",
       "      <th></th>\n",
       "      <th>user_id</th>\n",
       "      <th>gender</th>\n",
       "      <th>age</th>\n",
       "      <th>country</th>\n",
       "    </tr>\n",
       "  </thead>\n",
       "  <tbody>\n",
       "    <tr>\n",
       "      <th>0</th>\n",
       "      <td>NE254R</td>\n",
       "      <td>Male</td>\n",
       "      <td>74</td>\n",
       "      <td>U.S. Outlying Islands</td>\n",
       "    </tr>\n",
       "    <tr>\n",
       "      <th>1</th>\n",
       "      <td>OK667U</td>\n",
       "      <td>Other</td>\n",
       "      <td>72</td>\n",
       "      <td>Zimbabwe</td>\n",
       "    </tr>\n",
       "    <tr>\n",
       "      <th>2</th>\n",
       "      <td>TG490T</td>\n",
       "      <td>Male</td>\n",
       "      <td>40</td>\n",
       "      <td>Switzerland</td>\n",
       "    </tr>\n",
       "    <tr>\n",
       "      <th>3</th>\n",
       "      <td>MS370Y</td>\n",
       "      <td>Male</td>\n",
       "      <td>27</td>\n",
       "      <td>Sri Lanka</td>\n",
       "    </tr>\n",
       "    <tr>\n",
       "      <th>4</th>\n",
       "      <td>FP113J</td>\n",
       "      <td>Female</td>\n",
       "      <td>79</td>\n",
       "      <td>U.S. Virgin Islands</td>\n",
       "    </tr>\n",
       "  </tbody>\n",
       "</table>\n",
       "</div>"
      ],
      "text/plain": [
       "  user_id  gender  age                country\n",
       "0  NE254R    Male   74  U.S. Outlying Islands\n",
       "1  OK667U   Other   72               Zimbabwe\n",
       "2  TG490T    Male   40            Switzerland\n",
       "3  MS370Y    Male   27              Sri Lanka\n",
       "4  FP113J  Female   79    U.S. Virgin Islands"
      ]
     },
     "execution_count": 3,
     "metadata": {},
     "output_type": "execute_result"
    }
   ],
   "source": [
    "user_data = generate_users(25_000)\n",
    "\n",
    "data_users_df = pd.DataFrame(user_data)\n",
    "data_users_df.head()"
   ]
  },
  {
   "cell_type": "markdown",
   "id": "3be7e33a",
   "metadata": {},
   "source": [
    "### <span style='color:#ff5f27'> 🎥 Content Data Generation</span>\n"
   ]
  },
  {
   "cell_type": "code",
   "execution_count": 4,
   "id": "86701806",
   "metadata": {},
   "outputs": [
    {
     "data": {
      "text/html": [
       "<div>\n",
       "<style scoped>\n",
       "    .dataframe tbody tr th:only-of-type {\n",
       "        vertical-align: middle;\n",
       "    }\n",
       "\n",
       "    .dataframe tbody tr th {\n",
       "        vertical-align: top;\n",
       "    }\n",
       "\n",
       "    .dataframe thead th {\n",
       "        text-align: right;\n",
       "    }\n",
       "</style>\n",
       "<table border=\"1\" class=\"dataframe\">\n",
       "  <thead>\n",
       "    <tr style=\"text-align: right;\">\n",
       "      <th></th>\n",
       "      <th>video_id</th>\n",
       "      <th>category</th>\n",
       "      <th>views</th>\n",
       "      <th>likes</th>\n",
       "      <th>video_length</th>\n",
       "      <th>upload_date</th>\n",
       "    </tr>\n",
       "  </thead>\n",
       "  <tbody>\n",
       "    <tr>\n",
       "      <th>0</th>\n",
       "      <td>1GH88Q</td>\n",
       "      <td>Travel</td>\n",
       "      <td>379726</td>\n",
       "      <td>232338</td>\n",
       "      <td>42</td>\n",
       "      <td>2024-05-08</td>\n",
       "    </tr>\n",
       "    <tr>\n",
       "      <th>1</th>\n",
       "      <td>9HG61H</td>\n",
       "      <td>Education</td>\n",
       "      <td>102651</td>\n",
       "      <td>48846</td>\n",
       "      <td>142</td>\n",
       "      <td>2023-06-13</td>\n",
       "    </tr>\n",
       "    <tr>\n",
       "      <th>2</th>\n",
       "      <td>0ZN06O</td>\n",
       "      <td>Technology</td>\n",
       "      <td>50208</td>\n",
       "      <td>31013</td>\n",
       "      <td>110</td>\n",
       "      <td>2023-07-31</td>\n",
       "    </tr>\n",
       "    <tr>\n",
       "      <th>3</th>\n",
       "      <td>9BV15C</td>\n",
       "      <td>Music</td>\n",
       "      <td>360531</td>\n",
       "      <td>152565</td>\n",
       "      <td>202</td>\n",
       "      <td>2024-04-01</td>\n",
       "    </tr>\n",
       "    <tr>\n",
       "      <th>4</th>\n",
       "      <td>5SU87K</td>\n",
       "      <td>Travel</td>\n",
       "      <td>180381</td>\n",
       "      <td>146878</td>\n",
       "      <td>202</td>\n",
       "      <td>2023-07-03</td>\n",
       "    </tr>\n",
       "  </tbody>\n",
       "</table>\n",
       "</div>"
      ],
      "text/plain": [
       "  video_id    category   views   likes  video_length upload_date\n",
       "0   1GH88Q      Travel  379726  232338            42  2024-05-08\n",
       "1   9HG61H   Education  102651   48846           142  2023-06-13\n",
       "2   0ZN06O  Technology   50208   31013           110  2023-07-31\n",
       "3   9BV15C       Music  360531  152565           202  2024-04-01\n",
       "4   5SU87K      Travel  180381  146878           202  2023-07-03"
      ]
     },
     "execution_count": 4,
     "metadata": {},
     "output_type": "execute_result"
    }
   ],
   "source": [
    "# Generate data for 25_000 videos\n",
    "video_data = generate_video_content(25_000, historical=True)\n",
    "\n",
    "data_video_df = pd.DataFrame(video_data)\n",
    "data_video_df.head()"
   ]
  },
  {
   "cell_type": "markdown",
   "id": "47e62f50",
   "metadata": {},
   "source": [
    "### <span style='color:#ff5f27'> 🔗 Interactions Generation</span>\n"
   ]
  },
  {
   "cell_type": "code",
   "execution_count": 5,
   "id": "49e79fe4",
   "metadata": {},
   "outputs": [
    {
     "data": {
      "text/html": [
       "<div>\n",
       "<style scoped>\n",
       "    .dataframe tbody tr th:only-of-type {\n",
       "        vertical-align: middle;\n",
       "    }\n",
       "\n",
       "    .dataframe tbody tr th {\n",
       "        vertical-align: top;\n",
       "    }\n",
       "\n",
       "    .dataframe thead th {\n",
       "        text-align: right;\n",
       "    }\n",
       "</style>\n",
       "<table border=\"1\" class=\"dataframe\">\n",
       "  <thead>\n",
       "    <tr style=\"text-align: right;\">\n",
       "      <th></th>\n",
       "      <th>interaction_id</th>\n",
       "      <th>user_id</th>\n",
       "      <th>video_id</th>\n",
       "      <th>interaction_type</th>\n",
       "      <th>watch_time</th>\n",
       "    </tr>\n",
       "  </thead>\n",
       "  <tbody>\n",
       "    <tr>\n",
       "      <th>0</th>\n",
       "      <td>1353-32-0695</td>\n",
       "      <td>UC646D</td>\n",
       "      <td>3RE11Y</td>\n",
       "      <td>skip</td>\n",
       "      <td>20</td>\n",
       "    </tr>\n",
       "    <tr>\n",
       "      <th>1</th>\n",
       "      <td>1878-01-4191</td>\n",
       "      <td>DI752B</td>\n",
       "      <td>1GM21U</td>\n",
       "      <td>like</td>\n",
       "      <td>14</td>\n",
       "    </tr>\n",
       "    <tr>\n",
       "      <th>2</th>\n",
       "      <td>0786-41-2468</td>\n",
       "      <td>NB280G</td>\n",
       "      <td>1LA19B</td>\n",
       "      <td>skip</td>\n",
       "      <td>235</td>\n",
       "    </tr>\n",
       "    <tr>\n",
       "      <th>3</th>\n",
       "      <td>8740-17-7171</td>\n",
       "      <td>YY424S</td>\n",
       "      <td>7UV11T</td>\n",
       "      <td>skip</td>\n",
       "      <td>24</td>\n",
       "    </tr>\n",
       "    <tr>\n",
       "      <th>4</th>\n",
       "      <td>7741-58-6354</td>\n",
       "      <td>EX929F</td>\n",
       "      <td>8DC52V</td>\n",
       "      <td>skip</td>\n",
       "      <td>249</td>\n",
       "    </tr>\n",
       "  </tbody>\n",
       "</table>\n",
       "</div>"
      ],
      "text/plain": [
       "  interaction_id user_id video_id interaction_type  watch_time\n",
       "0   1353-32-0695  UC646D   3RE11Y             skip          20\n",
       "1   1878-01-4191  DI752B   1GM21U             like          14\n",
       "2   0786-41-2468  NB280G   1LA19B             skip         235\n",
       "3   8740-17-7171  YY424S   7UV11T             skip          24\n",
       "4   7741-58-6354  EX929F   8DC52V             skip         249"
      ]
     },
     "execution_count": 5,
     "metadata": {},
     "output_type": "execute_result"
    }
   ],
   "source": [
    "num_interactions = 1_000_000\n",
    "\n",
    "# Generate interactions\n",
    "interactions = generate_interactions(num_interactions, user_data, video_data)\n",
    "\n",
    "data_interactions_df = pd.DataFrame(interactions)\n",
    "data_interactions_df.head()"
   ]
  },
  {
   "cell_type": "markdown",
   "id": "8b6d4dfe",
   "metadata": {},
   "source": [
    "## <span style=\"color:#ff5f27\">👮🏻‍♂️ Great Expectations </span>"
   ]
  },
  {
   "cell_type": "code",
   "execution_count": 6,
   "id": "43878aa8",
   "metadata": {},
   "outputs": [
    {
     "data": {
      "text/plain": [
       "{\"expectation_type\": \"expect_column_distinct_values_to_be_in_set\", \"kwargs\": {\"column\": \"gender\", \"value_set\": [\"Male\", \"Female\", \"Other\"]}, \"meta\": {}}"
      ]
     },
     "execution_count": 6,
     "metadata": {},
     "output_type": "execute_result"
    }
   ],
   "source": [
    "# Create a Great Expectations DataFrame from the pandas DataFrame\n",
    "ge_users_df = ge.from_pandas(data_users_df)\n",
    "\n",
    "# Initialize the expectation suite\n",
    "expectation_suite_users = ge_users_df.get_expectation_suite()\n",
    "expectation_suite_users.expectation_suite_name = \"user_data_suite\"\n",
    "\n",
    "# Expectation: Age should be between 0 and 120\n",
    "expectation_suite_users.add_expectation(\n",
    "    ExpectationConfiguration(\n",
    "        expectation_type=\"expect_column_values_to_be_between\",\n",
    "        kwargs={\"column\": \"age\", \"min_value\": 12, \"max_value\": 100}\n",
    "    )\n",
    ")\n",
    "\n",
    "# Expectations: Columns should not have null values\n",
    "for column in ge_users_df.columns:\n",
    "    expectation_suite_users.add_expectation(\n",
    "        ExpectationConfiguration(\n",
    "            expectation_type=\"expect_column_values_to_not_be_null\",\n",
    "            kwargs={\"column\": column}\n",
    "        )\n",
    "    )\n",
    "\n",
    "# Expectation: Gender should only contain specific values\n",
    "expectation_suite_users.add_expectation(\n",
    "    ExpectationConfiguration(\n",
    "        expectation_type=\"expect_column_distinct_values_to_be_in_set\",\n",
    "        kwargs={\"column\": \"gender\", \"value_set\": [\"Male\", \"Female\", \"Other\"]}\n",
    "    )\n",
    ")"
   ]
  },
  {
   "cell_type": "code",
   "execution_count": 7,
   "id": "15220f45",
   "metadata": {},
   "outputs": [
    {
     "data": {
      "text/plain": [
       "{\"expectation_type\": \"expect_column_values_to_be_dateutil_parseable\", \"kwargs\": {\"column\": \"upload_date\"}, \"meta\": {}}"
      ]
     },
     "execution_count": 7,
     "metadata": {},
     "output_type": "execute_result"
    }
   ],
   "source": [
    "# Create a Great Expectations DataFrame from the pandas DataFrame\n",
    "ge_video_df = ge.from_pandas(data_video_df)\n",
    "\n",
    "# Initialize the expectation suite\n",
    "expectation_suite_videos = ge_video_df.get_expectation_suite()\n",
    "expectation_suite_videos.expectation_suite_name = \"video_data_suite\"\n",
    "\n",
    "# Expectation: Views, Likes, and Video Length should be non-negative\n",
    "for column in [\"views\", \"likes\", \"video_length\"]:\n",
    "    expectation_suite_videos.add_expectation(\n",
    "        ExpectationConfiguration(\n",
    "            expectation_type=\"expect_column_values_to_be_between\",\n",
    "            kwargs={\"column\": column, \"min_value\": 0, \"max_value\": None}\n",
    "        )\n",
    "    )\n",
    "\n",
    "# Expectation: Valid date format for upload_date\n",
    "expectation_suite_videos.add_expectation(\n",
    "    ExpectationConfiguration(\n",
    "        expectation_type=\"expect_column_values_to_be_dateutil_parseable\",\n",
    "        kwargs={\"column\": \"upload_date\"}\n",
    "    )\n",
    ")"
   ]
  },
  {
   "cell_type": "code",
   "execution_count": 8,
   "id": "c861a06b",
   "metadata": {},
   "outputs": [
    {
     "data": {
      "text/plain": [
       "{\"expectation_type\": \"expect_column_values_to_be_between\", \"kwargs\": {\"column\": \"watch_time\", \"min_value\": 0}, \"meta\": {}}"
      ]
     },
     "execution_count": 8,
     "metadata": {},
     "output_type": "execute_result"
    }
   ],
   "source": [
    "# Create a Great Expectations DataFrame from the pandas DataFrame\n",
    "ge_interactions_df = ge.from_pandas(data_interactions_df)\n",
    "\n",
    "# Initialize the expectation suite\n",
    "expectation_suite_interactions = ge_interactions_df.get_expectation_suite()\n",
    "expectation_suite_interactions.expectation_suite_name = \"interactions_data_suite\"\n",
    "\n",
    "# Expectations: Non-null values in all columns\n",
    "for column in ge_interactions_df.columns:\n",
    "    expectation_suite_interactions.add_expectation(\n",
    "        ExpectationConfiguration(\n",
    "            expectation_type=\"expect_column_values_to_not_be_null\",\n",
    "            kwargs={\"column\": column}\n",
    "        )\n",
    "    )\n",
    "\n",
    "# Expectation: Validate interaction types\n",
    "expectation_suite_interactions.add_expectation(\n",
    "    ExpectationConfiguration(\n",
    "        expectation_type=\"expect_column_distinct_values_to_be_in_set\",\n",
    "        kwargs={\n",
    "            \"column\": \"interaction_type\",\n",
    "            \"value_set\": ['like', 'dislike', 'view', 'comment', 'share', 'skip']\n",
    "        }\n",
    "    )\n",
    ")\n",
    "\n",
    "# Expectation: Positive watch time\n",
    "expectation_suite_interactions.add_expectation(\n",
    "    ExpectationConfiguration(\n",
    "        expectation_type=\"expect_column_values_to_be_between\",\n",
    "        kwargs={\"column\": \"watch_time\", \"min_value\": 0}\n",
    "    )\n",
    ")"
   ]
  },
  {
   "cell_type": "markdown",
   "id": "25905fb9",
   "metadata": {},
   "source": [
    "## <span style=\"color:#ff5f27\">🔮 Connect to Hopsworks Feature Store </span>"
   ]
  },
  {
   "cell_type": "code",
   "execution_count": 9,
   "id": "04b0a448",
   "metadata": {},
   "outputs": [
    {
     "name": "stdout",
     "output_type": "stream",
     "text": [
      "Connected. Call `.close()` to terminate connection gracefully.\n",
      "\n",
      "Logged in to project, explore it here https://c.app.hopsworks.ai:443/p/17565\n",
      "Connected. Call `.close()` to terminate connection gracefully.\n"
     ]
    }
   ],
   "source": [
    "import hopsworks\n",
    "\n",
    "project = hopsworks.login()\n",
    "\n",
    "fs = project.get_feature_store()"
   ]
  },
  {
   "cell_type": "markdown",
   "id": "40fa692f",
   "metadata": {},
   "source": [
    "## <span style=\"color:#ff5f27\">🪄 Feature Group Creation </span>\n"
   ]
  },
  {
   "cell_type": "code",
   "execution_count": 10,
   "id": "c8db1067",
   "metadata": {},
   "outputs": [
    {
     "name": "stdout",
     "output_type": "stream",
     "text": [
      "2024-10-01 13:31:21,761 WARNING: DeprecationWarning: is_sparse is deprecated and will be removed in a future version. Check `isinstance(dtype, pd.SparseDtype)` instead.\n",
      "\n",
      "Feature Group created successfully, explore it at \n",
      "https://c.app.hopsworks.ai:443/p/17565/fs/17485/fg/1239373\n",
      "2024-10-01 13:31:23,525 INFO: \t6 expectation(s) included in expectation_suite.\n",
      "Validation succeeded.\n",
      "Validation Report saved successfully, explore a summary at https://c.app.hopsworks.ai:443/p/17565/fs/17485/fg/1239373\n"
     ]
    },
    {
     "data": {
      "application/vnd.jupyter.widget-view+json": {
       "model_id": "42c6c626f03e40d0ac9cb049c1f0f506",
       "version_major": 2,
       "version_minor": 0
      },
      "text/plain": [
       "Uploading Dataframe: 0.00% |          | Rows 0/25000 | Elapsed Time: 00:00 | Remaining Time: ?"
      ]
     },
     "metadata": {},
     "output_type": "display_data"
    },
    {
     "name": "stdout",
     "output_type": "stream",
     "text": [
      "Launching job: users_1_offline_fg_materialization\n",
      "Job started successfully, you can follow the progress at \n",
      "https://c.app.hopsworks.ai/p/17565/jobs/named/users_1_offline_fg_materialization/executions\n",
      "Done ✅\n"
     ]
    }
   ],
   "source": [
    "users_fg = fs.get_or_create_feature_group(\n",
    "    name=\"users\",\n",
    "    description=\"Users data.\",\n",
    "    version=1,\n",
    "    primary_key=[\"user_id\"],\n",
    "    online_enabled=True,\n",
    "    expectation_suite=expectation_suite_users,\n",
    ")\n",
    "\n",
    "users_fg.insert(data_users_df)\n",
    "print('Done ✅')"
   ]
  },
  {
   "cell_type": "code",
   "execution_count": 11,
   "id": "d59478f7",
   "metadata": {},
   "outputs": [
    {
     "name": "stdout",
     "output_type": "stream",
     "text": [
      "2024-10-01 13:31:34,511 WARNING: DeprecationWarning: is_sparse is deprecated and will be removed in a future version. Check `isinstance(dtype, pd.SparseDtype)` instead.\n",
      "\n",
      "Feature Group created successfully, explore it at \n",
      "https://c.app.hopsworks.ai:443/p/17565/fs/17485/fg/1237342\n",
      "2024-10-01 13:31:36,108 INFO: \t4 expectation(s) included in expectation_suite.\n",
      "Validation succeeded.\n",
      "Validation Report saved successfully, explore a summary at https://c.app.hopsworks.ai:443/p/17565/fs/17485/fg/1237342\n"
     ]
    },
    {
     "data": {
      "application/vnd.jupyter.widget-view+json": {
       "model_id": "d561b86911df482c8d562e3b8fc57eda",
       "version_major": 2,
       "version_minor": 0
      },
      "text/plain": [
       "Uploading Dataframe: 0.00% |          | Rows 0/25000 | Elapsed Time: 00:00 | Remaining Time: ?"
      ]
     },
     "metadata": {},
     "output_type": "display_data"
    },
    {
     "name": "stdout",
     "output_type": "stream",
     "text": [
      "Launching job: videos_1_offline_fg_materialization\n",
      "Job started successfully, you can follow the progress at \n",
      "https://c.app.hopsworks.ai/p/17565/jobs/named/videos_1_offline_fg_materialization/executions\n",
      "Done ✅\n"
     ]
    }
   ],
   "source": [
    "videos_fg = fs.get_or_create_feature_group(\n",
    "    name=\"videos\",\n",
    "    description=\"Videos data.\",\n",
    "    version=1,\n",
    "    primary_key=[\"video_id\"],\n",
    "    online_enabled=True,\n",
    "    expectation_suite=expectation_suite_videos,\n",
    ")\n",
    "\n",
    "videos_fg.insert(data_video_df)\n",
    "print('Done ✅')"
   ]
  },
  {
   "cell_type": "code",
   "execution_count": 12,
   "id": "ec368d13",
   "metadata": {},
   "outputs": [
    {
     "name": "stdout",
     "output_type": "stream",
     "text": [
      "Feature Group created successfully, explore it at \n",
      "https://c.app.hopsworks.ai:443/p/17565/fs/17485/fg/1238365\n",
      "2024-10-01 13:31:50,058 INFO: \t7 expectation(s) included in expectation_suite.\n",
      "Validation succeeded.\n",
      "Validation Report saved successfully, explore a summary at https://c.app.hopsworks.ai:443/p/17565/fs/17485/fg/1238365\n"
     ]
    },
    {
     "data": {
      "application/vnd.jupyter.widget-view+json": {
       "model_id": "ae2b24cb104e4e5b8d4c9d08458fcfe5",
       "version_major": 2,
       "version_minor": 0
      },
      "text/plain": [
       "Uploading Dataframe: 0.00% |          | Rows 0/1000000 | Elapsed Time: 00:00 | Remaining Time: ?"
      ]
     },
     "metadata": {},
     "output_type": "display_data"
    },
    {
     "name": "stdout",
     "output_type": "stream",
     "text": [
      "Launching job: interactions_1_offline_fg_materialization\n",
      "Job started successfully, you can follow the progress at \n",
      "https://c.app.hopsworks.ai/p/17565/jobs/named/interactions_1_offline_fg_materialization/executions\n",
      "Done ✅\n"
     ]
    }
   ],
   "source": [
    "interactions_fg = fs.get_or_create_feature_group(\n",
    "    name=\"interactions\",\n",
    "    description=\"Interactions data.\",\n",
    "    version=1,\n",
    "    primary_key=[\"interaction_id\", \"user_id\", \"video_id\"],\n",
    "    online_enabled=True,\n",
    "    expectation_suite=expectation_suite_interactions,\n",
    ")\n",
    "\n",
    "interactions_fg.insert(data_interactions_df)\n",
    "print('Done ✅')"
   ]
  },
  {
   "cell_type": "markdown",
   "id": "c0765296",
   "metadata": {},
   "source": [
    "## <span style=\"color:#ff5f27\">🪄 Ranking Feature Group </span>\n"
   ]
  },
  {
   "cell_type": "code",
   "execution_count": 13,
   "id": "c8b881d5",
   "metadata": {},
   "outputs": [
    {
     "data": {
      "text/html": [
       "<div>\n",
       "<style scoped>\n",
       "    .dataframe tbody tr th:only-of-type {\n",
       "        vertical-align: middle;\n",
       "    }\n",
       "\n",
       "    .dataframe tbody tr th {\n",
       "        vertical-align: top;\n",
       "    }\n",
       "\n",
       "    .dataframe thead th {\n",
       "        text-align: right;\n",
       "    }\n",
       "</style>\n",
       "<table border=\"1\" class=\"dataframe\">\n",
       "  <thead>\n",
       "    <tr style=\"text-align: right;\">\n",
       "      <th></th>\n",
       "      <th>user_id</th>\n",
       "      <th>video_id</th>\n",
       "      <th>category</th>\n",
       "      <th>views</th>\n",
       "      <th>likes</th>\n",
       "      <th>video_length</th>\n",
       "      <th>upload_date</th>\n",
       "      <th>gender</th>\n",
       "      <th>age</th>\n",
       "      <th>country</th>\n",
       "      <th>label</th>\n",
       "    </tr>\n",
       "  </thead>\n",
       "  <tbody>\n",
       "    <tr>\n",
       "      <th>0</th>\n",
       "      <td>UC646D</td>\n",
       "      <td>3RE11Y</td>\n",
       "      <td>Comedy</td>\n",
       "      <td>24940</td>\n",
       "      <td>16465</td>\n",
       "      <td>203</td>\n",
       "      <td>2022-11-16</td>\n",
       "      <td>Female</td>\n",
       "      <td>77</td>\n",
       "      <td>Nepal</td>\n",
       "      <td>0</td>\n",
       "    </tr>\n",
       "    <tr>\n",
       "      <th>1</th>\n",
       "      <td>UC646D</td>\n",
       "      <td>6ZH27U</td>\n",
       "      <td>Entertainment</td>\n",
       "      <td>32439</td>\n",
       "      <td>31962</td>\n",
       "      <td>142</td>\n",
       "      <td>2023-08-10</td>\n",
       "      <td>Female</td>\n",
       "      <td>77</td>\n",
       "      <td>Nepal</td>\n",
       "      <td>0</td>\n",
       "    </tr>\n",
       "    <tr>\n",
       "      <th>2</th>\n",
       "      <td>UC646D</td>\n",
       "      <td>7WR26K</td>\n",
       "      <td>News</td>\n",
       "      <td>117476</td>\n",
       "      <td>12510</td>\n",
       "      <td>136</td>\n",
       "      <td>2024-03-28</td>\n",
       "      <td>Female</td>\n",
       "      <td>77</td>\n",
       "      <td>Nepal</td>\n",
       "      <td>0</td>\n",
       "    </tr>\n",
       "    <tr>\n",
       "      <th>3</th>\n",
       "      <td>UC646D</td>\n",
       "      <td>2RZ41M</td>\n",
       "      <td>Travel</td>\n",
       "      <td>235930</td>\n",
       "      <td>147583</td>\n",
       "      <td>33</td>\n",
       "      <td>2023-11-25</td>\n",
       "      <td>Female</td>\n",
       "      <td>77</td>\n",
       "      <td>Nepal</td>\n",
       "      <td>1</td>\n",
       "    </tr>\n",
       "    <tr>\n",
       "      <th>4</th>\n",
       "      <td>UC646D</td>\n",
       "      <td>6EN02I</td>\n",
       "      <td>Sports</td>\n",
       "      <td>265</td>\n",
       "      <td>128</td>\n",
       "      <td>222</td>\n",
       "      <td>2023-11-13</td>\n",
       "      <td>Female</td>\n",
       "      <td>77</td>\n",
       "      <td>Nepal</td>\n",
       "      <td>0</td>\n",
       "    </tr>\n",
       "  </tbody>\n",
       "</table>\n",
       "</div>"
      ],
      "text/plain": [
       "  user_id video_id       category   views   likes  video_length upload_date  \\\n",
       "0  UC646D   3RE11Y         Comedy   24940   16465           203  2022-11-16   \n",
       "1  UC646D   6ZH27U  Entertainment   32439   31962           142  2023-08-10   \n",
       "2  UC646D   7WR26K           News  117476   12510           136  2024-03-28   \n",
       "3  UC646D   2RZ41M         Travel  235930  147583            33  2023-11-25   \n",
       "4  UC646D   6EN02I         Sports     265     128           222  2023-11-13   \n",
       "\n",
       "   gender  age country  label  \n",
       "0  Female   77   Nepal      0  \n",
       "1  Female   77   Nepal      0  \n",
       "2  Female   77   Nepal      0  \n",
       "3  Female   77   Nepal      1  \n",
       "4  Female   77   Nepal      0  "
      ]
     },
     "execution_count": 13,
     "metadata": {},
     "output_type": "execute_result"
    }
   ],
   "source": [
    "video_interactions_df = pd.merge(\n",
    "    data_interactions_df, \n",
    "    data_video_df, \n",
    "    on='video_id', \n",
    "    how='inner',\n",
    ")\n",
    "\n",
    "ranking_df = pd.merge(\n",
    "    video_interactions_df, \n",
    "    data_users_df, \n",
    "    on='user_id', \n",
    "    how='inner',\n",
    ")\n",
    "\n",
    "ranking_df['label'] = np.where(\n",
    "    ranking_df.interaction_type.isin(['view', 'like', 'share', 'comment']), \n",
    "    1, \n",
    "    0,\n",
    ")\n",
    "\n",
    "ranking_df.drop(\n",
    "    ['interaction_id', 'interaction_type', 'watch_time'], \n",
    "    axis=1, \n",
    "    inplace=True,\n",
    ")\n",
    "\n",
    "ranking_df.head()"
   ]
  },
  {
   "cell_type": "code",
   "execution_count": 14,
   "id": "c1be837f",
   "metadata": {},
   "outputs": [
    {
     "name": "stdout",
     "output_type": "stream",
     "text": [
      "2024-10-01 13:33:15,634 WARNING: DeprecationWarning: is_sparse is deprecated and will be removed in a future version. Check `isinstance(dtype, pd.SparseDtype)` instead.\n",
      "\n",
      "Feature Group created successfully, explore it at \n",
      "https://c.app.hopsworks.ai:443/p/17565/fs/17485/fg/1239374\n"
     ]
    },
    {
     "data": {
      "application/vnd.jupyter.widget-view+json": {
       "model_id": "7b05afb295bb4e68bc38f16ee43e4238",
       "version_major": 2,
       "version_minor": 0
      },
      "text/plain": [
       "Uploading Dataframe: 0.00% |          | Rows 0/1002532 | Elapsed Time: 00:00 | Remaining Time: ?"
      ]
     },
     "metadata": {},
     "output_type": "display_data"
    },
    {
     "name": "stdout",
     "output_type": "stream",
     "text": [
      "Launching job: ranking_1_offline_fg_materialization\n",
      "Job started successfully, you can follow the progress at \n",
      "https://c.app.hopsworks.ai/p/17565/jobs/named/ranking_1_offline_fg_materialization/executions\n",
      "Done ✅\n"
     ]
    }
   ],
   "source": [
    "ranking_fg = fs.get_or_create_feature_group(\n",
    "    name=\"ranking\",\n",
    "    description=\"Ranking Data.\",\n",
    "    version=1,\n",
    "    primary_key=[\"user_id\", \"video_id\"],\n",
    "    online_enabled=True,\n",
    ")\n",
    "\n",
    "ranking_fg.insert(ranking_df)\n",
    "print('Done ✅')"
   ]
  },
  {
   "cell_type": "markdown",
   "id": "ad63d534",
   "metadata": {},
   "source": [
    "---"
   ]
  }
 ],
 "metadata": {
  "kernelspec": {
   "display_name": "Python 3 (ipykernel)",
   "language": "python",
   "name": "python3"
  },
  "language_info": {
   "codemirror_mode": {
    "name": "ipython",
    "version": 3
   },
   "file_extension": ".py",
   "mimetype": "text/x-python",
   "name": "python",
   "nbconvert_exporter": "python",
   "pygments_lexer": "ipython3",
   "version": "3.10.0"
  }
 },
 "nbformat": 4,
 "nbformat_minor": 5
}
